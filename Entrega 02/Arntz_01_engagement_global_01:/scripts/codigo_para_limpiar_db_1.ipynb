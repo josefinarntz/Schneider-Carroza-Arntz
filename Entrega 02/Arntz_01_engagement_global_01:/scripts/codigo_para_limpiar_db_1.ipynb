{
  "nbformat": 4,
  "nbformat_minor": 0,
  "metadata": {
    "colab": {
      "provenance": []
    },
    "kernelspec": {
      "name": "python3",
      "display_name": "Python 3"
    },
    "language_info": {
      "name": "python"
    }
  },
  "cells": [
    {
      "cell_type": "code",
      "execution_count": 2,
      "metadata": {
        "id": "J88ejYFKQNon"
      },
      "outputs": [],
      "source": [
        "import pandas as pd"
      ]
    },
    {
      "cell_type": "code",
      "source": [
        "#Importo la base de datos"
      ],
      "metadata": {
        "id": "RBztTK5oe2iw"
      },
      "execution_count": null,
      "outputs": []
    },
    {
      "cell_type": "code",
      "source": [
        "db = pd.read_csv(\"ENGAGEMENT.csv\", skiprows=5, encoding=\"latin1\", sep=\"\\t\")"
      ],
      "metadata": {
        "id": "vj9MD1h9QjI5"
      },
      "execution_count": 15,
      "outputs": []
    },
    {
      "cell_type": "code",
      "source": [
        "#Acá eliminé las primeras cinco filas porque no tenían información, ocupé latin1 para arreglar el error y cambié es separador de comas a /t porque los títulos de las series de la base de datos incluían comas en el texto"
      ],
      "metadata": {
        "id": "cBWTAWale9uL"
      },
      "execution_count": null,
      "outputs": []
    },
    {
      "cell_type": "code",
      "source": [
        "db = db[';Title;Available Globally?;Release Date;Hours Viewed;'].str.split(\";\", expand=True)"
      ],
      "metadata": {
        "id": "hS5e6Y5UTP9H"
      },
      "execution_count": null,
      "outputs": []
    },
    {
      "cell_type": "code",
      "source": [
        "db = db.rename(columns={1: \"Title\", 2: \"Available Globally?\", 3: \"Release Date\", 4: \"Hours Viewed\"})"
      ],
      "metadata": {
        "id": "9DjN7tj-TimH"
      },
      "execution_count": 24,
      "outputs": []
    },
    {
      "cell_type": "code",
      "source": [
        "#Le cambié el nombre a los headers de las columnas"
      ],
      "metadata": {
        "id": "hpPq6TGefYQ9"
      },
      "execution_count": null,
      "outputs": []
    },
    {
      "cell_type": "code",
      "source": [
        "db = db.drop(columns = [0, 5, 6, 7])"
      ],
      "metadata": {
        "id": "MYJ7kjy7VywV"
      },
      "execution_count": 26,
      "outputs": []
    },
    {
      "cell_type": "code",
      "source": [
        "#Eliminé las columnas sin información"
      ],
      "metadata": {
        "id": "yeuY-9WZfeLV"
      },
      "execution_count": null,
      "outputs": []
    },
    {
      "cell_type": "code",
      "source": [
        "db_global = db[db[\"Available Globally?\"] == \"Yes\"]"
      ],
      "metadata": {
        "id": "s5e5EIcTW5jB"
      },
      "execution_count": 35,
      "outputs": []
    },
    {
      "cell_type": "code",
      "source": [
        "#Eliminé las series que no estaban disponibles globalmente"
      ],
      "metadata": {
        "id": "S3yuoE7SfhJ3"
      },
      "execution_count": null,
      "outputs": []
    },
    {
      "cell_type": "code",
      "source": [
        "db_global = db_global.reset_index(drop=True)"
      ],
      "metadata": {
        "id": "Jlv6idEPXCYM"
      },
      "execution_count": 36,
      "outputs": []
    },
    {
      "cell_type": "code",
      "source": [
        "#Armé una nueva base de datos para trabajar"
      ],
      "metadata": {
        "id": "zkDZ7s-OfnNf"
      },
      "execution_count": null,
      "outputs": []
    },
    {
      "cell_type": "code",
      "source": [
        "db_global.to_csv(\"engagement_global.csv\")"
      ],
      "metadata": {
        "id": "rN8Ge6ljXdZL"
      },
      "execution_count": 38,
      "outputs": []
    }
  ]
}
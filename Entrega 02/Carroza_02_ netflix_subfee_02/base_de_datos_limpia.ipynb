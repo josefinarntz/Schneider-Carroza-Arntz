{
  "nbformat": 4,
  "nbformat_minor": 0,
  "metadata": {
    "colab": {
      "provenance": []
    },
    "kernelspec": {
      "name": "python3",
      "display_name": "Python 3"
    },
    "language_info": {
      "name": "python"
    }
  },
  "cells": [
    {
      "cell_type": "code",
      "execution_count": null,
      "metadata": {
        "colab": {
          "base_uri": "https://localhost:8080/"
        },
        "id": "zSBI6cS0hHBp",
        "outputId": "ffe4edf7-642b-4103-e461-7f1f267aa036"
      },
      "outputs": [
        {
          "output_type": "stream",
          "name": "stdout",
          "text": [
            "Requirement already satisfied: pandas in /usr/local/lib/python3.10/dist-packages (2.0.3)\n",
            "Requirement already satisfied: python-dateutil>=2.8.2 in /usr/local/lib/python3.10/dist-packages (from pandas) (2.8.2)\n",
            "Requirement already satisfied: pytz>=2020.1 in /usr/local/lib/python3.10/dist-packages (from pandas) (2023.4)\n",
            "Requirement already satisfied: tzdata>=2022.1 in /usr/local/lib/python3.10/dist-packages (from pandas) (2024.1)\n",
            "Requirement already satisfied: numpy>=1.21.0 in /usr/local/lib/python3.10/dist-packages (from pandas) (1.25.2)\n",
            "Requirement already satisfied: six>=1.5 in /usr/local/lib/python3.10/dist-packages (from python-dateutil>=2.8.2->pandas) (1.16.0)\n"
          ]
        }
      ],
      "source": [
        "!pip install pandas\n"
      ]
    },
    {
      "cell_type": "code",
      "source": [
        "import pandas as pd\n",
        "\n",
        "# Cargar el archivo CSV en un DataFrame\n",
        "df = pd.read_csv(\"/content/drive/MyDrive/Colab Notebooks/GitHub/Netflix subscription fee Dec-2021.csv\")\n",
        "\n",
        "# Mostrar las primeras filas del DataFrame\n",
        "print(df.head())\n",
        "\n",
        "# Obtener información sobre el DataFrame\n",
        "print(df.info())\n",
        "\n",
        "# Calcular la media de suscriptores por año\n",
        "# mean_subscribers = df[\"Suscriptores de Netflix\"].mean()\n",
        "#print(\"Media de suscriptores:\", mean_subscribers)\n",
        "\n",
        "# Calcular el año con el máximo número de suscriptores\n",
        "#max_subscribers_year = df.loc[df[\"Suscriptores de Netflix\"].idxmax()][\"Año\"]\n",
        "#print(\"Año con el máximo número de suscriptores:\", max_subscribers_year)\n"
      ],
      "metadata": {
        "colab": {
          "base_uri": "https://localhost:8080/"
        },
        "id": "HjOn2KPdhRX8",
        "outputId": "28a77a7d-0b9f-4a71-da8d-d2f104900848"
      },
      "execution_count": 6,
      "outputs": [
        {
          "output_type": "stream",
          "name": "stdout",
          "text": [
            "  Country_code    Country  Total Library Size  No. of TV Shows  No. of Movies  \\\n",
            "0           ar  Argentina                4760             3154           1606   \n",
            "1           au  Australia                6114             4050           2064   \n",
            "2           at    Austria                5640             3779           1861   \n",
            "3           be    Belgium                4990             3374           1616   \n",
            "4           bo    Bolivia                4991             3155           1836   \n",
            "\n",
            "   Cost Per Month - Basic ($)  Cost Per Month - Standard ($)  \\\n",
            "0                        3.74                           6.30   \n",
            "1                        7.84                          12.12   \n",
            "2                        9.03                          14.67   \n",
            "3                       10.16                          15.24   \n",
            "4                        7.99                          10.99   \n",
            "\n",
            "   Cost Per Month - Premium ($)  \n",
            "0                          9.26  \n",
            "1                         16.39  \n",
            "2                         20.32  \n",
            "3                         20.32  \n",
            "4                         13.99  \n",
            "<class 'pandas.core.frame.DataFrame'>\n",
            "RangeIndex: 65 entries, 0 to 64\n",
            "Data columns (total 8 columns):\n",
            " #   Column                         Non-Null Count  Dtype  \n",
            "---  ------                         --------------  -----  \n",
            " 0   Country_code                   65 non-null     object \n",
            " 1   Country                        65 non-null     object \n",
            " 2   Total Library Size             65 non-null     int64  \n",
            " 3   No. of TV Shows                65 non-null     int64  \n",
            " 4   No. of Movies                  65 non-null     int64  \n",
            " 5   Cost Per Month - Basic ($)     65 non-null     float64\n",
            " 6   Cost Per Month - Standard ($)  65 non-null     float64\n",
            " 7   Cost Per Month - Premium ($)   65 non-null     float64\n",
            "dtypes: float64(3), int64(3), object(2)\n",
            "memory usage: 4.2+ KB\n",
            "None\n"
          ]
        }
      ]
    },
    {
      "cell_type": "code",
      "source": [
        "df = df.drop('Country_code', axis=1)\n",
        "\n",
        "# Mostrar el DataFrame resultante\n",
        "print(df)"
      ],
      "metadata": {
        "colab": {
          "base_uri": "https://localhost:8080/"
        },
        "id": "ANgRq7QOqTxI",
        "outputId": "42380fd8-cdaf-403b-85f5-081143881762"
      },
      "execution_count": 7,
      "outputs": [
        {
          "output_type": "stream",
          "name": "stdout",
          "text": [
            "           Country  Total Library Size  No. of TV Shows  No. of Movies  \\\n",
            "0        Argentina                4760             3154           1606   \n",
            "1        Australia                6114             4050           2064   \n",
            "2          Austria                5640             3779           1861   \n",
            "3          Belgium                4990             3374           1616   \n",
            "4          Bolivia                4991             3155           1836   \n",
            "..             ...                 ...              ...            ...   \n",
            "60         Ukraine                5336             3261           2075   \n",
            "61  United Kingdom                6643             4551           2092   \n",
            "62   United States                5818             3826           1992   \n",
            "63         Uruguay                4989             3154           1835   \n",
            "64       Venezuela                4797             3154           1643   \n",
            "\n",
            "    Cost Per Month - Basic ($)  Cost Per Month - Standard ($)  \\\n",
            "0                         3.74                           6.30   \n",
            "1                         7.84                          12.12   \n",
            "2                         9.03                          14.67   \n",
            "3                        10.16                          15.24   \n",
            "4                         7.99                          10.99   \n",
            "..                         ...                            ...   \n",
            "60                        5.64                           8.46   \n",
            "61                        7.91                          13.20   \n",
            "62                        8.99                          13.99   \n",
            "63                        8.99                          12.99   \n",
            "64                        7.99                          10.99   \n",
            "\n",
            "    Cost Per Month - Premium ($)  \n",
            "0                           9.26  \n",
            "1                          16.39  \n",
            "2                          20.32  \n",
            "3                          20.32  \n",
            "4                          13.99  \n",
            "..                           ...  \n",
            "60                         11.29  \n",
            "61                         18.48  \n",
            "62                         17.99  \n",
            "63                         15.99  \n",
            "64                         13.99  \n",
            "\n",
            "[65 rows x 7 columns]\n"
          ]
        }
      ]
    },
    {
      "cell_type": "code",
      "source": [
        "import pandas as pd\n",
        "\n",
        "# Suponiendo que ya has cargado tu base de datos en un DataFrame llamado df\n",
        "\n",
        "# Diccionario que mapea cada país a su continente correspondiente\n",
        "diccionario_continentes = {\n",
        "    'United Kingdom': 'Europa',\n",
        "    'United States': 'América del Norte',\n",
        "    'Argentina': 'América del Sur',\n",
        "    'Uruguay': 'América Sur',\n",
        "    'Venezuela': 'América del Sur',\n",
        "    'Paraguay': 'América del Sur',\n",
        "    'Peru': 'América del Sur',\n",
        "    'Chile': 'América del Sur',\n",
        "    'Colombia': 'América del Sur',\n",
        "    'Bolivia': 'América del Sur',\n",
        "    'Brazil': 'América del Sur',\n",
        "    'Ecuador': 'América del Sur',\n",
        "    'Australia': 'Oceanía',\n",
        "    'New Zealand': 'Oceanía',\n",
        "    'Austria': 'Europa',\n",
        "    'Belgium': 'Europa',\n",
        "    'Bulgaria': 'Europa',\n",
        "    'Croatia': 'Europa',\n",
        "    'Czechia': 'Europa',\n",
        "    'Denmark': 'Europa',\n",
        "    'Estonia': 'Europa',\n",
        "    'Finland': 'Europa',\n",
        "    'France': 'Europa',\n",
        "    'Germany': 'Europa',\n",
        "    'Gibraltar': 'Europa',\n",
        "    'Greece': 'Europa',\n",
        "    'Canada': 'América del Norte',\n",
        "    'Guatemala': 'América Central',\n",
        "    'Mexico': 'América Central',\n",
        "    'Honduras': 'América Central',\n",
        "    'Costa Rica': 'América Central',\n",
        "    'Hong Kong': 'Asia',\n",
        "    'India': 'Asia',\n",
        "    'Israel': 'Asia',\n",
        "    'Japan': 'Asia',\n",
        "    'Malaysia': 'Asia',\n",
        "    'Philippines': 'Asia',\n",
        "    'Singapore': 'Asia',\n",
        "    'South Korea': 'Asia',\n",
        "    'Taiwan': 'Asia',\n",
        "    'Turkey': 'Asia',\n",
        "    'Thailand': 'Asia',\n",
        "    'Hungary': 'Europa',\n",
        "    'Italy': 'Europa',\n",
        "    'Latvia': 'Europa',\n",
        "    'Liechtenstein': 'Europa',\n",
        "    'Lithuania': 'Europa',\n",
        "    'Moldova': 'Europa',\n",
        "    'Monaco': 'Europa',\n",
        "    'Netherlands': 'Europa',\n",
        "    'Norway': 'Europa',\n",
        "    'Poland': 'Europa',\n",
        "    'Portugal': 'Europa',\n",
        "    'Romania': 'Europa',\n",
        "    'Russia': 'Europa',\n",
        "    'San Marino': 'Europa',\n",
        "    'Slovakia': 'Europa',\n",
        "    'Spain': 'Europa',\n",
        "    'Sweden': 'Europa',\n",
        "    'Switzerland': 'Europa',\n",
        "    'Ukraine': 'Europa',\n",
        "\n",
        "\n",
        "    # Agrega más países y continentes según sea necesario\n",
        "}\n",
        "\n",
        "# Crear una nueva columna 'Continente' basada en el diccionario de continentes\n",
        "df['Continente'] = df['Country'].map(diccionario_continentes)\n",
        "\n",
        "# Ordenar los países por continente\n",
        "df = df.sort_values(by='Continente')\n",
        "\n",
        "# Mostrar el DataFrame resultante\n",
        "print(df)"
      ],
      "metadata": {
        "colab": {
          "base_uri": "https://localhost:8080/"
        },
        "id": "XSdf2clwwSvl",
        "outputId": "af519432-ec95-4b28-bfd9-454325b1787c"
      },
      "execution_count": 11,
      "outputs": [
        {
          "output_type": "stream",
          "name": "stdout",
          "text": [
            "         Country  Total Library Size  No. of TV Shows  No. of Movies  \\\n",
            "36        Mexico                4993             3158           1835   \n",
            "22      Honduras                4989             3154           1835   \n",
            "21     Guatemala                4767             3154           1613   \n",
            "10    Costa Rica                4988             3152           1836   \n",
            "63       Uruguay                4989             3154           1835   \n",
            "..           ...                 ...              ...            ...   \n",
            "1      Australia                6114             4050           2064   \n",
            "25       Iceland                6387             4426           1961   \n",
            "27     Indonesia                3887             2449           1438   \n",
            "28       Ireland                6486             4515           1971   \n",
            "52  South Africa                5736             3686           2050   \n",
            "\n",
            "    Cost Per Month - Basic ($)  Cost Per Month - Standard ($)  \\\n",
            "36                        6.62                          10.43   \n",
            "22                        7.99                          10.99   \n",
            "21                        7.99                          10.99   \n",
            "10                        8.99                          12.99   \n",
            "63                        8.99                          12.99   \n",
            "..                         ...                            ...   \n",
            "1                         7.84                          12.12   \n",
            "25                        9.03                          14.67   \n",
            "27                        8.36                          10.66   \n",
            "28                        9.03                          14.67   \n",
            "52                        6.26                          10.05   \n",
            "\n",
            "    Cost Per Month - Premium ($)       Continente  \n",
            "36                         14.24  América Central  \n",
            "22                         13.99  América Central  \n",
            "21                         13.99  América Central  \n",
            "10                         15.99  América Central  \n",
            "63                         15.99      América Sur  \n",
            "..                           ...              ...  \n",
            "1                          16.39          Oceanía  \n",
            "25                         20.32              NaN  \n",
            "27                         12.96              NaN  \n",
            "28                         20.32              NaN  \n",
            "52                         12.58              NaN  \n",
            "\n",
            "[65 rows x 8 columns]\n"
          ]
        }
      ]
    }
  ]
}